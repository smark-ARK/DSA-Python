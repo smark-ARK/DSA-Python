{
 "cells": [
  {
   "cell_type": "markdown",
   "metadata": {},
   "source": [
    "# SinglyLinkedList\n",
    "It is a linear Data Structure. It is used to store elements as Nodes.\n",
    "* Non Contiguous\n",
    "* Elements Point to their Next Element\n",
    "* Head is the Entrypoint\n",
    "* Last Element points to None\n",
    "\n"
   ]
  },
  {
   "cell_type": "markdown",
   "metadata": {},
   "source": [
    "## Node Class\n"
   ]
  }
 ],
 "metadata": {
  "kernelspec": {
   "display_name": "Python 3",
   "language": "python",
   "name": "python3"
  },
  "language_info": {
   "name": "python",
   "version": "3.10.12"
  }
 },
 "nbformat": 4,
 "nbformat_minor": 2
}
